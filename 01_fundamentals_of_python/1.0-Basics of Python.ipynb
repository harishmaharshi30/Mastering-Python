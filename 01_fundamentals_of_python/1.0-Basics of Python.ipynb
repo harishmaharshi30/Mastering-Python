{
 "cells": [
  {
   "cell_type": "markdown",
   "id": "aafbd8f1",
   "metadata": {},
   "source": [
    "### Python Basic syntax\n",
    "Syntax is the set of rules that defines how we write programs in a language.\n",
    "It determines the correct arrangement of words, symbols, and punctuation in code so that the computer can understand and execute it.\n",
    "\n",
    "In simple terms, Python syntax is about writing code in a way that follows these rules, so your program works as expected."
   ]
  },
  {
   "cell_type": "code",
   "execution_count": 1,
   "id": "fbb36cb9",
   "metadata": {},
   "outputs": [
    {
     "name": "stdout",
     "output_type": "stream",
     "text": [
      "Harish\n",
      "Kumar\n"
     ]
    }
   ],
   "source": [
    "## Python Bascic syntax Rules\n",
    "## Case sesnitivity - python is casesensitive language\n",
    "## Variable name should not start with number\n",
    "## Variable name should not contain special characters except _ (underscore)\n",
    "name = \"Harish\"\n",
    "Name = \"Kumar\" \n",
    "\n",
    "print(name)\n",
    "print(Name)"
   ]
  },
  {
   "cell_type": "markdown",
   "id": "cbd684e0",
   "metadata": {},
   "source": [
    "### Indentation in Python\n",
    "\n",
    "Python uses indentation to define the structure and hierarchy of code blocks. Unlike languages that use braces `{}` to mark code sections, Python relies on consistent indentation levels to group statements together.\n",
    "\n",
    "All statements within a block must be indented at the same level. Incorrect indentation will result in errors and unexpected behavior.\n",
    "\n",
    "This design makes Python code visually clean and easy to read, but requires careful attention to whitespace."
   ]
  },
  {
   "cell_type": "code",
   "execution_count": null,
   "id": "7ad8213c",
   "metadata": {},
   "outputs": [
    {
     "name": "stdout",
     "output_type": "stream",
     "text": [
      "30\n"
     ]
    }
   ],
   "source": [
    "## Python uses indentation to define the structure and hierarchy of code blocks. Unlike languages that use braces `{}` to mark code sections, Python relies on consistent indentation levels to group statements together.\n",
    "## All statements within a block must be indented at the same level. Incorrect indentation will result in errors and unexpected behavior.\n",
    "### Indentation in Python\n",
    "\n",
    "age = 30\n",
    "if age > 35:\n",
    "    print(age)\n",
    "print(age)\n",
    "\n"
   ]
  },
  {
   "cell_type": "code",
   "execution_count": 14,
   "id": "605b9626",
   "metadata": {},
   "outputs": [
    {
     "name": "stdout",
     "output_type": "stream",
     "text": [
      "5000.55\n",
      "7\n",
      "Harish\n",
      "True\n"
     ]
    }
   ],
   "source": [
    "amount = 5000.55\n",
    "day = 7\n",
    "name = \"Harish\"\n",
    "is_active = True\n",
    "\n",
    "# Printing the variables\n",
    "print(amount)\n",
    "print(day)\n",
    "print(name)\n",
    "print(is_active)\n"
   ]
  },
  {
   "cell_type": "code",
   "execution_count": null,
   "id": "c321a9dc",
   "metadata": {},
   "outputs": [
    {
     "name": "stdout",
     "output_type": "stream",
     "text": [
      "2\n"
     ]
    }
   ],
   "source": [
    "print(True+True) # 2"
   ]
  },
  {
   "cell_type": "code",
   "execution_count": 8,
   "id": "2dbc56c8",
   "metadata": {},
   "outputs": [
    {
     "name": "stdout",
     "output_type": "stream",
     "text": [
      "Harish <class 'str'>\n",
      "30 <class 'int'>\n",
      "5.9 <class 'float'>\n",
      "True <class 'bool'>\n",
      "['Math', 'Science', 'History'] <class 'list'>\n",
      "{'name': 'Harish', 'age': 30} <class 'dict'>\n",
      "100 <class 'int'>\n",
      "100.0 <class 'float'>\n",
      "100.0 <class 'str'>\n",
      "10 <class 'int'>\n",
      "Harish <class 'str'>\n"
     ]
    }
   ],
   "source": [
    "## understanding Variables and Data Types in Python\n",
    "## Variable is a named location used to store data in the memory. It acts as a container to hold values that can be referenced and manipulated throughout the program.\n",
    "## Data types specify the type of data that a variable can hold. Python is a dynamically typed\n",
    "## language, meaning you don't need to declare the data type explicitly; it is inferred based on the assigned value.\n",
    "## Common data types in Python include:\n",
    "## Integer (int): Represents whole numbers, e.g., 10, -5,\n",
    "## Float (float): Represents decimal numbers, e.g., 3.14, -0.5,\n",
    "## String (str): Represents sequences of characters, e.g., \"Hello\", 'Python',\n",
    "## Boolean (bool): Represents True or False values.\n",
    "## List (list): Represents ordered collections of items, e.g., [1, 2\n",
    "## Tuple (tuple): Represents ordered, immutable collections of items, e.g., (1, 2, 3),\n",
    "## Dictionary (dict): Represents key-value pairs, e.g., {\"name\": \"Alice\",\n",
    "## Set (set): Represents unordered collections of unique items, e.g., {1, 2, 3},\n",
    "## Example of variable assignment and data types\n",
    "name = \"Harish\"  # String\n",
    "age = 30         # Integer\n",
    "height = 5.9    # Float\n",
    "is_student = True  # Boolean\n",
    "courses = [\"Math\", \"Science\", \"History\"]  # List\n",
    "person = {\"name\": \"Harish\", \"age\": 30}  # Dictionary\n",
    "print(name, type(name))\n",
    "print(age, type(age))\n",
    "print(height, type(height))\n",
    "print(is_student, type(is_student))\n",
    "print(courses, type(courses))\n",
    "print(person, type(person))\n",
    "## Type Conversion\n",
    "## Type conversion is the process of converting a value from one data type to another. Python provides built-in functions to perform type conversions.\n",
    "## Implicit Conversion: Python automatically converts one data type to another when necessary, such as converting an integer to a float during arithmetic operations.\n",
    "## Explicit Conversion: You can manually convert data types using functions like int(), float(), str(), list(), tuple(), dict(), etc.\n",
    "## Example of type conversion\n",
    "num_str = \"100\"\n",
    "num_int = int(num_str)  # Explicit conversion from string to integer\n",
    "print(num_int, type(num_int))\n",
    "num_float = float(num_int)  # Explicit conversion from integer to float\n",
    "print(num_float, type(num_float))\n",
    "num_str_again = str(num_float)  # Explicit conversion from float to string\n",
    "print(num_str_again, type(num_str_again))\n",
    "# --- IGNORE ---\n",
    "## Dynamic Typing\n",
    "## python allows the same variable to hold different types of data at different times during program execution.\n",
    "var = 10 # integer\n",
    "print(var, type(var))\n",
    "var = \"Harish\" # string\n",
    "print(var, type(var))\n",
    "var = 10.5 # float\n"
   ]
  },
  {
   "cell_type": "code",
   "execution_count": 7,
   "id": "44501385",
   "metadata": {},
   "outputs": [
    {
     "name": "stdout",
     "output_type": "stream",
     "text": [
      "<class 'int'>\n"
     ]
    }
   ],
   "source": [
    "amount = 1000  # integer\n",
    "print(type(amount))"
   ]
  },
  {
   "cell_type": "code",
   "execution_count": 15,
   "id": "7979ee5b",
   "metadata": {},
   "outputs": [],
   "source": [
    "## Error invalid literal for int() with base 10: 'Harish'\n",
    "# name = \"Harish\"\n",
    "# int(name)"
   ]
  },
  {
   "cell_type": "code",
   "execution_count": 5,
   "id": "de9294df",
   "metadata": {},
   "outputs": [
    {
     "name": "stdout",
     "output_type": "stream",
     "text": [
      "<class 'float'>\n"
     ]
    },
    {
     "data": {
      "text/plain": [
       "5000.0"
      ]
     },
     "execution_count": 5,
     "metadata": {},
     "output_type": "execute_result"
    }
   ],
   "source": [
    "amount = 5000.55\n",
    "print(type(amount))\n",
    "float(int(amount))"
   ]
  },
  {
   "cell_type": "code",
   "execution_count": 4,
   "id": "39abf027",
   "metadata": {},
   "outputs": [
    {
     "name": "stdout",
     "output_type": "stream",
     "text": [
      "10 <class 'int'>\n",
      "Harish <class 'str'>\n",
      "10.5 <class 'float'>\n"
     ]
    }
   ],
   "source": [
    "## Dynamic Typing\n",
    "## python allows the same variable to hold different types of data at different times during program execution.\n",
    "var = 10 # integer\n",
    "print(var, type(var))\n",
    "var = \"Harish\" # string\n",
    "print(var, type(var))\n",
    "var = 10.5 # float\n",
    "print(var, type(var))"
   ]
  },
  {
   "cell_type": "code",
   "execution_count": 3,
   "id": "b967d8c8",
   "metadata": {},
   "outputs": [
    {
     "name": "stdout",
     "output_type": "stream",
     "text": [
      "5000 <class 'int'>\n"
     ]
    }
   ],
   "source": [
    "# input illustration\n",
    "amount = int(input(\"What is the amount...?\"))\n",
    "print(amount, type(amount))"
   ]
  },
  {
   "cell_type": "code",
   "execution_count": 2,
   "id": "be6a93de",
   "metadata": {},
   "outputs": [
    {
     "name": "stdout",
     "output_type": "stream",
     "text": [
      "Sum:  5.0\n",
      "Difference:  -1.0\n",
      "Product:  6.0\n",
      "Quotient:  0.6666666666666666\n"
     ]
    }
   ],
   "source": [
    "## simple caluclator\n",
    "num1 = float(input(\"Enter the first Number: \"))\n",
    "num2 = float(input(\"Enter the second Number: \"))\n",
    "sum = num1 + num2\n",
    "difference = num1 - num2\n",
    "product = num1 * num2\n",
    "quotient = num1 / num2\n",
    "\n",
    "print(\"Sum: \", sum)\n",
    "print(\"Difference: \", difference)\n",
    "print(\"Product: \", product)\n",
    "print(\"Quotient: \", quotient)"
   ]
  },
  {
   "cell_type": "code",
   "execution_count": null,
   "id": "7810840b",
   "metadata": {},
   "outputs": [],
   "source": []
  }
 ],
 "metadata": {
  "kernelspec": {
   "display_name": ".venv",
   "language": "python",
   "name": "python3"
  },
  "language_info": {
   "codemirror_mode": {
    "name": "ipython",
    "version": 3
   },
   "file_extension": ".py",
   "mimetype": "text/x-python",
   "name": "python",
   "nbconvert_exporter": "python",
   "pygments_lexer": "ipython3",
   "version": "3.12.2"
  }
 },
 "nbformat": 4,
 "nbformat_minor": 5
}
