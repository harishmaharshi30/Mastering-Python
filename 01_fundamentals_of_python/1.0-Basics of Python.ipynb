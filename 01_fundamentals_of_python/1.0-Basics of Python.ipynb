{
 "cells": [
  {
   "cell_type": "code",
   "execution_count": 1,
   "id": "8d5e3676",
   "metadata": {},
   "outputs": [
    {
     "name": "stdout",
     "output_type": "stream",
     "text": [
      "Hello bro..\n"
     ]
    }
   ],
   "source": [
    "print(\"Hello bro..\")"
   ]
  },
  {
   "cell_type": "markdown",
   "id": "aafbd8f1",
   "metadata": {},
   "source": [
    "### Python Basic syntax\n",
    "Syntax is the set of rules that defines how we write programs in a language.\n",
    "It determines the correct arrangement of words, symbols, and punctuation in code so that the computer can understand and execute it.\n",
    "\n",
    "In simple terms, Python syntax is about writing code in a way that follows these rules, so your program works as expected."
   ]
  },
  {
   "cell_type": "code",
   "execution_count": 2,
   "id": "fbb36cb9",
   "metadata": {},
   "outputs": [],
   "source": [
    "## Python Bascic syntax Rules\n",
    "## we have single line comment using # and mulit line comment using '''...''' or \"\"\"...\"\"\"\n"
   ]
  },
  {
   "cell_type": "code",
   "execution_count": null,
   "id": "5254e594",
   "metadata": {},
   "outputs": [],
   "source": [
    "hai BrokenPipeError"
   ]
  }
 ],
 "metadata": {
  "kernelspec": {
   "display_name": ".venv",
   "language": "python",
   "name": "python3"
  },
  "language_info": {
   "codemirror_mode": {
    "name": "ipython",
    "version": 3
   },
   "file_extension": ".py",
   "mimetype": "text/x-python",
   "name": "python",
   "nbconvert_exporter": "python",
   "pygments_lexer": "ipython3",
   "version": "3.12.2"
  }
 },
 "nbformat": 4,
 "nbformat_minor": 5
}
